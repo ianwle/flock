{
 "cells": [
  {
   "cell_type": "code",
   "execution_count": null,
   "id": "3466eda4",
   "metadata": {},
   "outputs": [],
   "source": [
    "#Prepare packages\n",
    "\n",
    "!pip3 install geopy\n",
    "\n",
    "import geopy\n",
    "# import module\n",
    "from geopy.geocoders import Nominatim\n",
    "# initialize Nominatim API \n",
    "geolocator = Nominatim(user_agent=\"geoapiExercises\")\n",
    "from geopy.exc import GeocoderTimedOut\n",
    "\n",
    "import numpy as np\n",
    "import pandas as pd"
   ]
  },
  {
   "cell_type": "code",
   "execution_count": null,
   "id": "8c13ec92",
   "metadata": {},
   "outputs": [],
   "source": [
    "# load PGV data\n",
    "pgv = pd.read_excel('pgv_ca.xlsx')## may need to edit the file name here\n"
   ]
  },
  {
   "cell_type": "code",
   "execution_count": null,
   "id": "ad7635f6",
   "metadata": {},
   "outputs": [],
   "source": [
    "# get county of the coordinate\n",
    "def get_county(lon,lat):\n",
    "    try:\n",
    "        lon=str(lon)\n",
    "        lat=str(lat)\n",
    "        location = geolocator.reverse(lat+\",\"+lon)\n",
    "        county = location.raw['address']['county']\n",
    "        county = county.replace(' County','')\n",
    "    except:\n",
    "        return \"na\"\n",
    "    else:\n",
    "        return county\n",
    "    \n",
    "# get state of the coordinate\n",
    "def get_state(lon,lat):\n",
    "    try:\n",
    "        lon=str(lon)\n",
    "        lat=str(lat)\n",
    "        location = geolocator.reverse(lat+\",\"+lon)\n",
    "        state = location.raw['address']['state']\n",
    "    except:\n",
    "        return \"na\"\n",
    "    else:\n",
    "        return state"
   ]
  },
  {
   "cell_type": "code",
   "execution_count": null,
   "id": "ac4e934f",
   "metadata": {},
   "outputs": [],
   "source": [
    "# This procedure may take hours based on the size of the dataset\n",
    "pgv['county']= pgv.apply(lambda row: get_county(row['lon'],row['lat']), axis=1)\n",
    "pgv['state']= pgv.apply(lambda row: get_state(row['lon'],row['lat']), axis=1)"
   ]
  },
  {
   "cell_type": "code",
   "execution_count": null,
   "id": "b1c35cc9",
   "metadata": {},
   "outputs": [],
   "source": [
    "# check and and columns for 'county' and 'state' of each coordinates\n",
    "\n",
    "pgv['county']= pgv.apply(lambda row: get_county(row['lon'],row['lat']), axis=1)\n",
    "pgv['state']= pgv.apply(lambda row: get_state(row['lon'],row['lat']), axis=1)"
   ]
  },
  {
   "cell_type": "code",
   "execution_count": null,
   "id": "4b90b2ff",
   "metadata": {},
   "outputs": [],
   "source": [
    "pgv.to_csv('pgv_county.csv')"
   ]
  }
 ],
 "metadata": {
  "kernelspec": {
   "display_name": "Python 3 (ipykernel)",
   "language": "python",
   "name": "python3"
  },
  "language_info": {
   "codemirror_mode": {
    "name": "ipython",
    "version": 3
   },
   "file_extension": ".py",
   "mimetype": "text/x-python",
   "name": "python",
   "nbconvert_exporter": "python",
   "pygments_lexer": "ipython3",
   "version": "3.8.12"
  }
 },
 "nbformat": 4,
 "nbformat_minor": 5
}
